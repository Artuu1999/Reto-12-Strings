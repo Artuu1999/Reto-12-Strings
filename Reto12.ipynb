{
 "cells": [
  {
   "cell_type": "code",
   "execution_count": 7,
   "metadata": {},
   "outputs": [
    {
     "name": "stdout",
     "output_type": "stream",
     "text": [
      "La cantidad de vocales en el texto procesado es de: 22450\n"
     ]
    }
   ],
   "source": [
    "#Definir una función para contar las vocales en un string\n",
    "def contadorVocales(texto: str)->int:\n",
    "    contador = 0 #Inicializamos el contador de voacles en 0\n",
    "    # Realizar un condicional relacionado a la apareción de las vocales\n",
    "    for archivo in texto: \n",
    "        if archivo in \"AaEeIiOoUu\": #Indentar por cada elemento de aquel string que aparezca\n",
    "            contador += 1 #Actulizar el contador por cada aparición de vocal\n",
    "    return contador #Retornar el contador     \n",
    "\n",
    "#Llamar las funciones e imprimir el resultado    \n",
    "if __name__ == \"__main__\":\n",
    "    #Abrir el archivo en cuestión\n",
    "    with open(\"mbox-short (1).txt\", \"r\") as file:\n",
    "     #Imprimir la función de contador de Vocales relacionada al archivo procesado\n",
    "     print(\"La cantidad de vocales en el texto procesado es de: \"+str(contadorVocales(file.read()))+\"\")"
   ]
  },
  {
   "cell_type": "code",
   "execution_count": 37,
   "metadata": {},
   "outputs": [
    {
     "name": "stdout",
     "output_type": "stream",
     "text": [
      "La cantidad de consonantes en el texto procesado es de: 36063\n"
     ]
    }
   ],
   "source": [
    "#Definir una función para contar las consonantes en un string\n",
    "def contadorConsonantes(texto: str)->int:\n",
    "    contador = 0 #Inicializamos el contador de consonantes en 0\n",
    "    # Realizar un condicional relacionado a la aparición de las consonantes\n",
    "    for archivo in texto: \n",
    "        if archivo in \"BbCcDdFfGgHhJjKkLlMmNnPpQqRrSsTtVvWwXxYyZz\": #Indentar por cada elemento de aquel string que aparezca\n",
    "            contador += 1 #Actulizar el contador por cada aparición de consonante\n",
    "    return contador #Retornar el contador\n",
    "\n",
    "#Llamar las funciones e imprimir el resultado    \n",
    "if __name__ == \"__main__\":\n",
    "    #Abrir el archivo en cuestión\n",
    "    with open(\"mbox-short (1).txt\", \"r\") as file:\n",
    "     #Imprimir la función de contador de consonantes relacionada al archivo procesado\n",
    "     print(\"La cantidad de consonantes en el texto procesado es de: \"+str(contadorConsonantes(file.read()))+\"\")"
   ]
  },
  {
   "cell_type": "code",
   "execution_count": 54,
   "metadata": {},
   "outputs": [
    {
     "name": "stdout",
     "output_type": "stream",
     "text": [
      "Las palabras más frecuentes en el texto son las siguientes:\n",
      " Jan: 352\n",
      " 2008: 324\n",
      " by: 245\n",
      " Received:: 243\n",
      " -0500: 219\n",
      " from: 218\n",
      " 4: 203\n",
      " with: 194\n",
      " Fri,: 183\n",
      " id: 136\n",
      " for: 118\n",
      " ESMTP: 108\n",
      " paploo.uhi.ac.uk: 108\n",
      " nakamura.uits.iupui.edu: 108\n",
      " +0000: 81\n",
      " (GMT): 81\n",
      " <source@collab.sakaiproject.org>;: 81\n",
      " text/plain;: 81\n",
      " charset=UTF-8: 81\n",
      " 04: 61\n",
      " 3: 61\n",
      " murder: 54\n",
      " (Cyrus: 54\n",
      " LMTPA;: 54\n",
      " ID: 54\n",
      " (localhost: 54\n",
      " [127.0.0.1]): 54\n",
      " (Postfix): 54\n",
      " SMTP: 54\n",
      " Date:: 54\n",
      " Thu,: 51\n",
      " to: 43\n",
      " svn: 43\n",
      " Fri: 40\n",
      " -: 35\n",
      " the: 32\n",
      " New: 29\n",
      " 2008): 28\n",
      " message: 28\n",
      " Sakai: 28\n",
      " Source: 28\n",
      " From: 27\n",
      " Return-Path:: 27\n",
      " <postmaster@collab.sakaiproject.org>: 27\n",
      " (mail.umich.edu: 27\n",
      " frankenstein.mail.umich.edu: 27\n",
      " v2.3.8): 27\n",
      " X-Sieve:: 27\n",
      " CMU: 27\n",
      " Sieve: 27\n"
     ]
    }
   ],
   "source": [
    "#Definimos una función para hallar la palabras más frecuentes\n",
    "def obtenerPalabrasFrecuentes():\n",
    "    archivo = 'mbox-short (1).txt'  # Nombrar al texto con una variable\n",
    "    with open(archivo, \"r\") as archivoTexto:  # Abrir el archivo y leerlo\n",
    "        palabrasFrecuentes = {} #Crear un diccionario vacio en el que se incluirá los elementos\n",
    "        for line in archivoTexto: #Ciclo for para iterar sobre cada línea del texto\n",
    "            linea = line.split() #Separar el texto\n",
    "            for palabra in linea: #Ciclo for para iterar sobre cada palabra en la línea\n",
    "                #Condicional para verificar aparición y actualizar con cada aparición\n",
    "                if palabra in palabrasFrecuentes:\n",
    "                    palabrasFrecuentes[palabra] += 1\n",
    "                else:\n",
    "                    palabrasFrecuentes[palabra] = 1\n",
    "        #Convertir el diccionario en una lista\n",
    "        frecuencia = list(palabrasFrecuentes.items())\n",
    "        #Ordenar la lista por frecuencia de manera descendente\n",
    "        frecuencia.sort(key=lambda x: x[1], reverse=True)\n",
    "        listadoPalabras = frecuencia[:50] #Obtener las 50 palabras más frecuentes\n",
    "        return listadoPalabras #Retornar la función\n",
    "    \n",
    "# Llamar a la función y imprimir el resultado    \n",
    "if __name__ == \"__main__\":\n",
    "    #Llamar la función definida anteriormente\n",
    "    palabrasFrecuentes = obtenerPalabrasFrecuentes()\n",
    "    print(\"Las palabras más frecuentes en el texto son las siguientes:\")\n",
    "    #Ciclo for para imprimir clave y valor del diccionario de palabrasFrecuentes\n",
    "    for palabra, veces in palabrasFrecuentes:\n",
    "        print(\" \"+str(palabra)+\": \"+str(veces)+\"\")"
   ]
  },
  {
   "cell_type": "code",
   "execution_count": 12,
   "metadata": {},
   "outputs": [
    {
     "name": "stdout",
     "output_type": "stream",
     "text": [
      "Los destinarios con su respectiva cantidad de mensajes recibidos son:\n",
      "murder: 54\n",
      "holes.mr.itd.umich.edu: 4\n",
      "ived:: 27\n",
      "paploo.uhi.ac.uk: 27\n",
      "prod.collab.uhi.ac.uk: 27\n",
      "nakamura.uits.iupui.edu: 54\n",
      "apache@localhost): 27\n",
      "icestorm.mr.itd.umich.edu: 2\n",
      "ghostbusters.mr.itd.umich.edu: 1\n",
      "dreamcatcher.mr.itd.umich.edu: 1\n",
      "firestarter.mr.itd.umich.edu: 2\n",
      "eyewitness.mr.itd.umich.edu: 2\n",
      "tadpole.mr.itd.umich.edu: 1\n",
      "it.mr.itd.umich.edu: 1\n",
      "creepshow.mr.itd.umich.edu: 2\n",
      "carrie.mr.itd.umich.edu: 1\n",
      "shining.mr.itd.umich.edu: 1\n",
      "guys.mr.itd.umich.edu: 2\n",
      "galaxyquest.mr.itd.umich.edu: 2\n",
      "workinggirl.mr.itd.umich.edu: 1\n",
      "salemslot.mr.itd.umich.edu: 3\n",
      "anniehall.mr.itd.umich.edu: 1\n"
     ]
    }
   ],
   "source": [
    "# Función para hallar el correo en cuestión\n",
    "def obtenerCorreo(linea):\n",
    "    #Buscar en cada línea 5 indices después de la palabra from que es en donde inicia el correo\n",
    "    inicio = linea.find('from ') + 5\n",
    "    #Indicar el fin cuando se acabe el correo\n",
    "    fin = linea.find(' ', inicio)\n",
    "    correo = linea[inicio:fin] #Asignar a la variable correo desde el incio del correo hasta el final de este mismo\n",
    "    return correo #Retornar la función\n",
    "\n",
    "#Se crea una funación para obtener los destinatarios, con un argumento al que se le relacionara con el texto\n",
    "def obtenerDestinatarios(archivo):\n",
    "    #Se crea un diccionario en el que se almacenará los destinatarios\n",
    "    destinatarios = {}\n",
    "    #Con dicho método se abre el archivo en cuestión y se lee\n",
    "    with open(archivo, 'r') as texto:\n",
    "        #Se itera sobre cada línea del archivo\n",
    "        for linea in texto:\n",
    "            #Condicional por si aparece la palabra Received, que significa recibido\n",
    "            if linea.startswith('Received:'):\n",
    "                #Se llama la función para obtener el correo y se asocia a la variable correo\n",
    "                correo = obtenerCorreo(linea)\n",
    "                #Condicional por el valor es válido\n",
    "                if correo:\n",
    "                    #Se ubica en el diccionario vacío creado las claves de los correo y por cada apareción sumar 1 en el valor\n",
    "                    destinatarios[correo] = destinatarios.get(correo, 0) + 1\n",
    "    return destinatarios #Retornar la función\n",
    "\n",
    "#Llamar las funciones e imprimir el resultado    \n",
    "if __name__ == \"__main__\":\n",
    "    archivo = 'mbox-short (1).txt' #Nombrar al texto con una variable\n",
    "    frecuenciaDestinatarios = obtenerDestinatarios(archivo) #Llamar la dunción para obtener el diccionario de destinatarios\n",
    "    print(\"Los destinarios con su respectiva cantidad de mensajes recibidos son:\")\n",
    "    #Ciclo for para cada elemento del diccionario e imprimer su clave y su valor\n",
    "    for correo, cantidad in frecuenciaDestinatarios.items():\n",
    "        print(\"\"+str(correo)+\": \"+str(cantidad)+\"\")"
   ]
  },
  {
   "cell_type": "code",
   "execution_count": 41,
   "metadata": {},
   "outputs": [
    {
     "name": "stdout",
     "output_type": "stream",
     "text": [
      "El día 5 de enero de 2008 se enviaron 9 mensajes\n",
      "El día 4 de enero de 2008 se enviaron 183 mensajes\n",
      "El día 3 de enero de 2008 se enviaron 51 mensajes\n"
     ]
    }
   ],
   "source": [
    "#Función para las fechas encontradas\n",
    "def obtenerSegmentos(cadena: str) -> list:\n",
    "    segmentos = [] #Lista vacía para las fechas encontradas\n",
    "    palabras = cadena.split() #Separar la cadena de texto\n",
    "    for i in range(len(palabras)): #Ciclo for para la longitud de las palabra\n",
    "        #Se realiza un condicional para cuando comience por recibido\n",
    "        if palabras[i] == \"Received:\":\n",
    "            segmento = [] #Lista vacía para agrupar las fechas encontradas\n",
    "            #Indentar por cada aparicón antes del -0500 o de GMT\n",
    "            while palabras[i] != \"-0500\" and palabras[i] != \"(GMT)\":\n",
    "                segmento.append(palabras[i]) #Se agregan los elementos encontrados a la lista\n",
    "                i += 1 #Se actualiza el ciclo while\n",
    "            segmentos.append(segmento) #Se agregan los elementos a la lista de segmentos\n",
    "    return segmentos #Retornamos la función\n",
    "\n",
    "#Función para obtener la cantidad de mensaje por día\n",
    "def obtenerCantidadMensajesPorDia(segmentos: list) -> dict:\n",
    "    #Diccionario para la cantidad de mensajes y relacionarlas con el día\n",
    "    cantidadMensajes = {}\n",
    "    #Ciclo for para  iterar cada fecha\n",
    "    for segmento in segmentos:\n",
    "        dia = int(segmento[segmento.index('Jan') - 1]) #Se accede un elemento anterior al elemento Jan\n",
    "        #Condiciona para verificar si el día se encuentra en la cantidad de mensajes y se actualiza el diccionario\n",
    "        if dia in cantidadMensajes:\n",
    "            cantidadMensajes[dia] += 1\n",
    "        else:\n",
    "            cantidadMensajes[dia] = 1\n",
    "    return cantidadMensajes #Se retorna la función\n",
    "\n",
    "#Llamar las funciones e imprimir el resultado    \n",
    "if __name__ == \"__main__\":\n",
    "    archivo = 'mbox-short (1).txt' #Nombrar al texto con una variable\n",
    "    with open(archivo, \"r\") as archivoTexto: #Abrir el archivo y leerlo\n",
    "        cadena = archivoTexto.read() #Declarar la variable cadena con el texto\n",
    "        #Llamar las funciones definidas anteriormente\n",
    "        segmentos = obtenerSegmentos(cadena)\n",
    "        cantidadMensajes = obtenerCantidadMensajesPorDia(segmentos)\n",
    "        #Ciclo for para imprimir cada día y la cantidad de mensajes respectiva\n",
    "        for dia, cantidad in cantidadMensajes.items():\n",
    "            print(\"El día \" + str(dia) + \" de enero de 2008 se enviaron \" + str(cantidad) + \" mensajes\")\n"
   ]
  }
 ],
 "metadata": {
  "kernelspec": {
   "display_name": "Python 3",
   "language": "python",
   "name": "python3"
  },
  "language_info": {
   "codemirror_mode": {
    "name": "ipython",
    "version": 3
   },
   "file_extension": ".py",
   "mimetype": "text/x-python",
   "name": "python",
   "nbconvert_exporter": "python",
   "pygments_lexer": "ipython3",
   "version": "3.7.9"
  },
  "orig_nbformat": 4
 },
 "nbformat": 4,
 "nbformat_minor": 2
}
